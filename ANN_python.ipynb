{
  "nbformat": 4,
  "nbformat_minor": 0,
  "metadata": {
    "colab": {
      "name": "ANN_python.ipynb",
      "provenance": [],
      "authorship_tag": "ABX9TyMEJEr/t3KZXFpMw1SlBmzD",
      "include_colab_link": true
    },
    "kernelspec": {
      "name": "python3",
      "display_name": "Python 3"
    }
  },
  "cells": [
    {
      "cell_type": "markdown",
      "metadata": {
        "id": "view-in-github",
        "colab_type": "text"
      },
      "source": [
        "<a href=\"https://colab.research.google.com/github/keehyun0613/machine_learning/blob/master/ANN_python.ipynb\" target=\"_parent\"><img src=\"https://colab.research.google.com/assets/colab-badge.svg\" alt=\"Open In Colab\"/></a>"
      ]
    },
    {
      "cell_type": "code",
      "metadata": {
        "id": "AO0zTos6or27",
        "colab_type": "code",
        "colab": {}
      },
      "source": [
        "import numpy as np\n",
        "from keras.datasets import mnist\n",
        "import matplotlib.pyplot as plt\n",
        "%matplotlib inline"
      ],
      "execution_count": null,
      "outputs": []
    },
    {
      "cell_type": "code",
      "metadata": {
        "id": "kHzNesLAsQHv",
        "colab_type": "code",
        "colab": {
          "base_uri": "https://localhost:8080/",
          "height": 53
        },
        "outputId": "98ed03ca-dc05-430e-e91f-6e647f2f2b08"
      },
      "source": [
        "(x_train, t_train), (x_test, t_test) = mnist.load_data()\n",
        "x_train = x_train.reshape(60000, 784)\n",
        "x_test = x_test.reshape(10000, 784)\n",
        "\n",
        "w1 = np.random.randn(784, 50) / np.sqrt(784 / 2)\n",
        "b1 = np.random.rand(50).reshape(1,50)\n",
        "\n",
        "w2 = np.random.randn(50, 30) / np.sqrt(50 / 2)\n",
        "b2 = np.random.rand(30).reshape(1,30)\n",
        "\n",
        "w3 = np.random.randn(30, 10) / np.sqrt(30 / 2)\n",
        "b3 = np.random.rand(10).reshape(1,10)\n",
        "\n",
        "learn_rate = 0.01"
      ],
      "execution_count": null,
      "outputs": [
        {
          "output_type": "stream",
          "text": [
            "Downloading data from https://storage.googleapis.com/tensorflow/tf-keras-datasets/mnist.npz\n",
            "11493376/11490434 [==============================] - 0s 0us/step\n"
          ],
          "name": "stdout"
        }
      ]
    },
    {
      "cell_type": "code",
      "metadata": {
        "id": "6etQ1tETscGO",
        "colab_type": "code",
        "colab": {
          "base_uri": "https://localhost:8080/",
          "height": 283
        },
        "outputId": "fc1d9476-3d5b-4cdf-fca9-9b8580b59d96"
      },
      "source": [
        "def sigmoid(z_input):\n",
        "    return 1 / (1 + np.exp(-z_input))\n",
        "\n",
        "def cross_ent(a_input, t_input):\n",
        "    return -(t_input * np.log(a_input) + (1 - t_input) * np.log(1 - a_input))\n",
        "\n",
        "x_axis = []\n",
        "y_axis = []\n",
        "\n",
        "for epochs in range(2):\n",
        "    for i in range(60000):\n",
        "        x = x_train[i, :] / 255.0\n",
        "        t = np.zeros(10)\n",
        "        t[t_train[i]] = 1\n",
        "\n",
        "        a0 = x.reshape(1,784)\n",
        "        z1 = np.dot(a0,w1) + b1\n",
        "        a1 = sigmoid(z1)\n",
        "        z2 = np.dot(a1, w2) + b2\n",
        "        a2 = sigmoid(z2)\n",
        "        z3 = np.dot(a2, w3) + b3\n",
        "        a3 = sigmoid(z3)\n",
        "        e = cross_ent(a3, t)\n",
        "        cost = np.sum(e)\n",
        "\n",
        "        delta3 = a3 * (1 - a3) * (-t / a3 + (1 - t) / (1 - a3))\n",
        "        dcdw3 = np.dot(a2.transpose(), delta3)\n",
        "        dcdb3 = delta3\n",
        "        w3 = w3 - learn_rate * dcdw3\n",
        "        b3 = b3 - learn_rate * dcdb3\n",
        "\n",
        "        delta2 = a2 * (1 - a2) * np.dot(w3, delta3.transpose()).transpose()\n",
        "        dcdw2 = np.dot(a1.transpose(), delta2)\n",
        "        dcdb2 = delta2\n",
        "        w2 = w2 - learn_rate * dcdw2\n",
        "        b2 = b2 - learn_rate * dcdb2\n",
        "\n",
        "        delta1 = a1 * (1 - a1) * np.dot(w2, delta2.transpose()).transpose()\n",
        "        dcdw1 = np.dot(a0.transpose(), delta1)\n",
        "        dcdb1 = delta1\n",
        "        w1 = w1 - learn_rate * dcdw1\n",
        "        b1 = b1 - learn_rate * dcdb1\n",
        "\n",
        "        if ((i+1) % 1000 == 0):\n",
        "            #print(i+1, cost)\n",
        "            x_axis.append(i+1)\n",
        "            y_axis.append(cost)\n",
        "\n",
        "plt.grid()\n",
        "plt.plot(x_axis, y_axis, color='b')\n",
        "plt.show"
      ],
      "execution_count": null,
      "outputs": [
        {
          "output_type": "execute_result",
          "data": {
            "text/plain": [
              "<function matplotlib.pyplot.show>"
            ]
          },
          "metadata": {
            "tags": []
          },
          "execution_count": 3
        },
        {
          "output_type": "display_data",
          "data": {
            "image/png": "[encoded data removed]",
            "text/plain": [
              "<Figure size 432x288 with 1 Axes>"
            ]
          },
          "metadata": {
            "tags": [],
            "needs_background": "light"
          }
        }
      ]
    },
    {
      "cell_type": "code",
      "metadata": {
        "id": "Zpd_6UfMlZ09",
        "colab_type": "code",
        "colab": {
          "base_uri": "https://localhost:8080/",
          "height": 35
        },
        "outputId": "a9f81f36-dfbb-4907-bba7-d391fdc515a7"
      },
      "source": [
        "true_num = 0\n",
        "for j in range(10000):\n",
        "    xt = x_test[j, :] / 255.0\n",
        "    tt = t_test[j]\n",
        "\n",
        "    a0 = xt.reshape(1,784)\n",
        "    z1 = np.dot(a0,w1) + b1\n",
        "    a1 = sigmoid(z1)\n",
        "    z2 = np.dot(a1, w2) + b2\n",
        "    a2 = sigmoid(z2)\n",
        "    z3 = np.dot(a2, w3) + b3\n",
        "    a3 = sigmoid(z3)\n",
        "\n",
        "    if (tt == np.argmax(a3)):\n",
        "        true_num = true_num + 1\n",
        "print(true_num / 10000)"
      ],
      "execution_count": null,
      "outputs": [
        {
          "output_type": "stream",
          "text": [
            "0.9506\n"
          ],
          "name": "stdout"
        }
      ]
    },
    {
      "cell_type": "code",
      "metadata": {
        "id": "-2p7HQtP-Txc",
        "colab_type": "code",
        "colab": {
          "base_uri": "https://localhost:8080/",
          "height": 283
        },
        "outputId": "c3f63034-8123-46f9-8753-4ba62c9b8208"
      },
      "source": [
        "xp = x_test[125,:].reshape(1,784)\n",
        "img = xp.reshape(28,28)\n",
        "plt.imshow(img, cmap = 'gray')\n",
        "plt.show"
      ],
      "execution_count": null,
      "outputs": [
        {
          "output_type": "execute_result",
          "data": {
            "text/plain": [
              "<function matplotlib.pyplot.show>"
            ]
          },
          "metadata": {
            "tags": []
          },
          "execution_count": 5
        },
        {
          "output_type": "display_data",
          "data": {
            "image/png": "[encoded data removed]",
            "text/plain": [
              "<Figure size 432x288 with 1 Axes>"
            ]
          },
          "metadata": {
            "tags": [],
            "needs_background": "light"
          }
        }
      ]
    },
    {
      "cell_type": "code",
      "metadata": {
        "id": "pFXHkggvVwFI",
        "colab_type": "code",
        "colab": {
          "base_uri": "https://localhost:8080/",
          "height": 35
        },
        "outputId": "0fba3e73-a47e-4a83-b770-d4a3e32b7b16"
      },
      "source": [
        "a0 = xp.reshape(1,784) / 255.0\n",
        "z1 = np.dot(a0,w1) + b1\n",
        "a1 = sigmoid(z1)\n",
        "z2 = np.dot(a1, w2) + b2\n",
        "a2 = sigmoid(z2)\n",
        "z3 = np.dot(a2, w3) + b3\n",
        "a3 = sigmoid(z3)\n",
        "np.argmax(a3)"
      ],
      "execution_count": null,
      "outputs": [
        {
          "output_type": "execute_result",
          "data": {
            "text/plain": [
              "9"
            ]
          },
          "metadata": {
            "tags": []
          },
          "execution_count": 6
        }
      ]
    },
    {
      "cell_type": "code",
      "metadata": {
        "id": "vB28J5OQWVnE",
        "colab_type": "code",
        "colab": {}
      },
      "source": [
        ""
      ],
      "execution_count": null,
      "outputs": []
    }
  ]
}