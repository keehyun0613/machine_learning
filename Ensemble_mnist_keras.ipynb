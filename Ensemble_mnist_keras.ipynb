{
  "nbformat": 4,
  "nbformat_minor": 0,
  "metadata": {
    "colab": {
      "name": "Ensemble_mnist_keras.ipynb",
      "provenance": [],
      "authorship_tag": "ABX9TyNJLxQVFmzvRJOyRe2fgPkc",
      "include_colab_link": true
    },
    "kernelspec": {
      "name": "python3",
      "display_name": "Python 3"
    }
  },
  "cells": [
    {
      "cell_type": "markdown",
      "metadata": {
        "id": "view-in-github",
        "colab_type": "text"
      },
      "source": [
        "<a href=\"https://colab.research.google.com/github/keehyun0613/machine_learning/blob/master/Ensemble_mnist_keras.ipynb\" target=\"_parent\"><img src=\"https://colab.research.google.com/assets/colab-badge.svg\" alt=\"Open In Colab\"/></a>"
      ]
    },
    {
      "cell_type": "code",
      "metadata": {
        "id": "fuqFg0oTUNVQ",
        "colab_type": "code",
        "colab": {}
      },
      "source": [
        "import numpy as np\n",
        "import tensorflow as tf\n",
        "from tensorflow.keras.datasets import mnist\n",
        "from tensorflow.keras.layers import Dense, Input, Flatten\n",
        "from tensorflow.keras.layers import Conv2D, MaxPooling2D\n",
        "from tensorflow.keras.utils import to_categorical\n",
        "import matplotlib.pyplot as plt\n",
        "%matplotlib inline"
      ],
      "execution_count": 1,
      "outputs": []
    },
    {
      "cell_type": "code",
      "metadata": {
        "id": "v7r4M09RVRMF",
        "colab_type": "code",
        "colab": {}
      },
      "source": [
        "def get_CNN():\n",
        "    inputs = Input(shape = (28, 28, 1))\n",
        "    out = Conv2D(16, kernel_size=(5, 5), activation='relu', padding='same')(inputs)\n",
        "    out = MaxPooling2D(pool_size=(2, 2))(out)\n",
        "    out = Conv2D(32, kernel_size=(5, 5), activation='relu',padding='same')(out)\n",
        "    out = MaxPooling2D(pool_size=(2, 2))(out)\n",
        "    out = Flatten()(out)\n",
        "    out = Dense(128, activation='relu')(out)\n",
        "    outputs = Dense(10, activation='softmax')(out)\n",
        "\n",
        "    model = tf.keras.Model(inputs, outputs)\n",
        "    return model"
      ],
      "execution_count": 2,
      "outputs": []
    },
    {
      "cell_type": "code",
      "metadata": {
        "id": "OK9mifo0X5qV",
        "colab_type": "code",
        "colab": {
          "base_uri": "https://localhost:8080/",
          "height": 53
        },
        "outputId": "492b1390-203d-4769-9766-e50f267c39f1"
      },
      "source": [
        "(x_train, t_train), (x_test, t_test) = mnist.load_data()\n",
        "x_train = (x_train / 255.0).reshape(60000, 28, 28, 1)\n",
        "x_test = (x_test / 255.0).reshape(10000, 28, 28, 1)\n",
        "t_train = to_categorical(t_train, 10)\n",
        "t_test = to_categorical(t_test, 10)"
      ],
      "execution_count": 3,
      "outputs": [
        {
          "output_type": "stream",
          "text": [
            "Downloading data from https://storage.googleapis.com/tensorflow/tf-keras-datasets/mnist.npz\n",
            "11493376/11490434 [==============================] - 0s 0us/step\n"
          ],
          "name": "stdout"
        }
      ]
    },
    {
      "cell_type": "code",
      "metadata": {
        "id": "Kg8B0CJCXOod",
        "colab_type": "code",
        "colab": {
          "base_uri": "https://localhost:8080/",
          "height": 107
        },
        "outputId": "e3b841ec-5b15-4c92-d18f-dbdc57a968ea"
      },
      "source": [
        "model1 = get_CNN()\n",
        "opt1 = tf.keras.optimizers.Adam(learning_rate = 0.01)\n",
        "model1.compile(optimizer=opt1, loss='categorical_crossentropy', metrics=['accuracy'])\n",
        "\n",
        "set1 = np.random.choice(60000, 40000)\n",
        "x_train_set1 = x_train[set1]\n",
        "t_train_set1 = t_train[set1]\n",
        "model1.fit(x_train_set1, t_train_set1, batch_size=500, epochs=2, verbose=2)"
      ],
      "execution_count": 4,
      "outputs": [
        {
          "output_type": "stream",
          "text": [
            "Epoch 1/2\n",
            "80/80 - 36s - loss: 0.2747 - accuracy: 0.9121\n",
            "Epoch 2/2\n",
            "80/80 - 36s - loss: 0.0424 - accuracy: 0.9870\n"
          ],
          "name": "stdout"
        },
        {
          "output_type": "execute_result",
          "data": {
            "text/plain": [
              "<tensorflow.python.keras.callbacks.History at 0x7fd388179e80>"
            ]
          },
          "metadata": {
            "tags": []
          },
          "execution_count": 4
        }
      ]
    },
    {
      "cell_type": "code",
      "metadata": {
        "id": "XO9LPxydXXA5",
        "colab_type": "code",
        "colab": {
          "base_uri": "https://localhost:8080/",
          "height": 107
        },
        "outputId": "5c523261-bcab-4228-fe68-7a3ac0fb7052"
      },
      "source": [
        "model2 = get_CNN()\n",
        "opt2 = tf.keras.optimizers.Adam(learning_rate = 0.02)\n",
        "model2.compile(optimizer=opt2, loss='categorical_crossentropy', metrics=['accuracy'])\n",
        "\n",
        "set2 = np.random.choice(60000, 40000)\n",
        "x_train_set2 = x_train[set2]\n",
        "t_train_set2 = t_train[set2]\n",
        "model2.fit(x_train_set2, t_train_set2, batch_size=500, epochs=2, verbose=2)"
      ],
      "execution_count": 5,
      "outputs": [
        {
          "output_type": "stream",
          "text": [
            "Epoch 1/2\n",
            "80/80 - 36s - loss: 0.8367 - accuracy: 0.7408\n",
            "Epoch 2/2\n",
            "80/80 - 35s - loss: 0.0960 - accuracy: 0.9679\n"
          ],
          "name": "stdout"
        },
        {
          "output_type": "execute_result",
          "data": {
            "text/plain": [
              "<tensorflow.python.keras.callbacks.History at 0x7fd385abcba8>"
            ]
          },
          "metadata": {
            "tags": []
          },
          "execution_count": 5
        }
      ]
    },
    {
      "cell_type": "code",
      "metadata": {
        "id": "wsiqtmQgabvS",
        "colab_type": "code",
        "colab": {
          "base_uri": "https://localhost:8080/",
          "height": 107
        },
        "outputId": "210cf881-a6cd-40a6-b1b1-a2dcbb08a765"
      },
      "source": [
        "model3 = get_CNN()\n",
        "opt3 = tf.keras.optimizers.Adam(learning_rate = 0.005)\n",
        "model3.compile(optimizer=opt3, loss='categorical_crossentropy', metrics=['accuracy'])\n",
        "\n",
        "set3 = np.random.choice(60000, 40000)\n",
        "x_train_set3 = x_train[set3]\n",
        "t_train_set3 = t_train[set3]\n",
        "model3.fit(x_train_set3, t_train_set3, batch_size=500, epochs=2, verbose=2)"
      ],
      "execution_count": 6,
      "outputs": [
        {
          "output_type": "stream",
          "text": [
            "Epoch 1/2\n",
            "80/80 - 36s - loss: 0.4086 - accuracy: 0.8822\n",
            "Epoch 2/2\n",
            "80/80 - 36s - loss: 0.0725 - accuracy: 0.9782\n"
          ],
          "name": "stdout"
        },
        {
          "output_type": "execute_result",
          "data": {
            "text/plain": [
              "<tensorflow.python.keras.callbacks.History at 0x7fd38598ffd0>"
            ]
          },
          "metadata": {
            "tags": []
          },
          "execution_count": 6
        }
      ]
    },
    {
      "cell_type": "code",
      "metadata": {
        "id": "JtPQgrPma6Fv",
        "colab_type": "code",
        "colab": {
          "base_uri": "https://localhost:8080/",
          "height": 35
        },
        "outputId": "7d939904-1e52-4643-ced7-fcee67e696bf"
      },
      "source": [
        "p1 = model1.predict(x_test)\n",
        "p2 = model2.predict(x_test)\n",
        "p3 = model3.predict(x_test)\n",
        "p= p1 + p2 + p3\n",
        "\n",
        "num =0\n",
        "\n",
        "for i in range(10000):\n",
        "    prediction = np.argmax(p[i])\n",
        "    label = np.argmax(t_test[i])\n",
        "    if (prediction == label):\n",
        "        num += 1\n",
        "print(num / 10000)"
      ],
      "execution_count": 15,
      "outputs": [
        {
          "output_type": "stream",
          "text": [
            "0.9877\n"
          ],
          "name": "stdout"
        }
      ]
    }
  ]
}