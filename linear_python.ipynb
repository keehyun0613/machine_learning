{
  "nbformat": 4,
  "nbformat_minor": 0,
  "metadata": {
    "colab": {
      "name": "linear_python.ipynb",
      "provenance": [],
      "collapsed_sections": [],
      "authorship_tag": "ABX9TyNDp3umGCYG4L8NInmqVlYz",
      "include_colab_link": true
    },
    "kernelspec": {
      "name": "python3",
      "display_name": "Python 3"
    }
  },
  "cells": [
    {
      "cell_type": "markdown",
      "metadata": {
        "id": "view-in-github",
        "colab_type": "text"
      },
      "source": [
        "<a href=\"https://colab.research.google.com/github/keehyun0613/machine_learning/blob/master/linear_python.ipynb\" target=\"_parent\"><img src=\"https://colab.research.google.com/assets/colab-badge.svg\" alt=\"Open In Colab\"/></a>"
      ]
    },
    {
      "cell_type": "code",
      "metadata": {
        "id": "uTJ6hllHMYC_",
        "colab_type": "code",
        "colab": {}
      },
      "source": [
        "#linear1 : w=0.2, b=0.1\n",
        "#linear2 : w1 = 0.3, w2 = -0.1, b= 0.2\n",
        "import numpy as np"
      ],
      "execution_count": null,
      "outputs": []
    },
    {
      "cell_type": "code",
      "metadata": {
        "id": "_-Jg7JAeNo9l",
        "colab_type": "code",
        "colab": {}
      },
      "source": [
        "traindata = np.loadtxt('./linear1_train_data.csv', delimiter=',', dtype=np.float32)\n",
        "train_row = traindata.shape[0]\n",
        "train_column = traindata.shape[1]\n",
        "x = traindata[:, 0:-1].reshape(train_row, train_column - 1)\n",
        "t = traindata[:, -1].reshape(train_row, 1)\n",
        "w = np.random.rand(train_column - 1, 1)\n",
        "b = np.random.rand(1)"
      ],
      "execution_count": null,
      "outputs": []
    },
    {
      "cell_type": "code",
      "metadata": {
        "id": "ccrSx3YlSzlq",
        "colab_type": "code",
        "colab": {}
      },
      "source": [
        "def loss_fn ():\n",
        "  z = np.dot(x, w) + b\n",
        "  return (np.sum((z - t)**2)) / len(x)\n"
      ],
      "execution_count": null,
      "outputs": []
    },
    {
      "cell_type": "code",
      "metadata": {
        "id": "qvjMT6zASNF-",
        "colab_type": "code",
        "colab": {
          "base_uri": "https://localhost:8080/",
          "height": 35
        },
        "outputId": "1894d6c6-5c4a-439c-fe15-327f9951b1a9"
      },
      "source": [
        "def num_deriv(wb):\n",
        "  h = 0.00001\n",
        "  grad = np.zeros_like(wb)\n",
        "\n",
        "  it = np.nditer(wb, flags=['multi_index'], op_flags=['readwrite'])\n",
        "\n",
        "  while not it.finished:\n",
        "    idx = it.multi_index\n",
        "    tmp_val = wb[idx]\n",
        "    wb[idx] = tmp_val + h \n",
        "    fx1 = loss_fn()\n",
        "    wb[idx] = tmp_val - h\n",
        "    fx2 = loss_fn()\n",
        "    grad[idx] = (fx1 - fx2) / (2*h)\n",
        "    wb[idx] = tmp_val\n",
        "    it.iternext()\n",
        "\n",
        "  return grad\n",
        "\n",
        "print(loss_fn(), w, b)"
      ],
      "execution_count": null,
      "outputs": [
        {
          "output_type": "stream",
          "text": [
            "0.5174429367405867 [[0.30332018]] [0.76589409]\n"
          ],
          "name": "stdout"
        }
      ]
    },
    {
      "cell_type": "code",
      "metadata": {
        "id": "WwNpBeRBags7",
        "colab_type": "code",
        "colab": {
          "base_uri": "https://localhost:8080/",
          "height": 215
        },
        "outputId": "d9277258-8a9f-4065-b6aa-c4c187b09da5"
      },
      "source": [
        "learn_rate = 0.001\n",
        "\n",
        "for step in range(10001):\n",
        "  w = w - learn_rate * num_deriv(w)\n",
        "  b = b - learn_rate * num_deriv(b)\n",
        "  if(step % 1000 == 0):\n",
        "    print(step, loss_fn(), w, b)"
      ],
      "execution_count": null,
      "outputs": [
        {
          "output_type": "stream",
          "text": [
            "0 0.5148079085212354 [[0.30256295]] [0.76445747]\n",
            "1000 0.005917479832649488 [[0.0468635]] [0.24018485]\n",
            "2000 0.0022751417875519 [[0.04800246]] [0.18866398]\n",
            "3000 0.0017439532675244992 [[0.06619258]] [0.174733]\n",
            "4000 0.0013506799850655253 [[0.08341854]] [0.16492891]\n",
            "5000 0.0010498608079534024 [[0.09858664]] [0.15653543]\n",
            "6000 0.0008197051555906738 [[0.11186184]] [0.1492076]\n",
            "7000 0.0006436137622307565 [[0.12347423]] [0.14279902]\n",
            "8000 0.0005088867810944642 [[0.1336316]] [0.13719354]\n",
            "9000 0.0004058075848540904 [[0.14251624]] [0.13229043]\n",
            "10000 0.0003269420109357748 [[0.15028762]] [0.1280017]\n"
          ],
          "name": "stdout"
        }
      ]
    },
    {
      "cell_type": "code",
      "metadata": {
        "id": "ySv-LQ3UcrKq",
        "colab_type": "code",
        "colab": {
          "base_uri": "https://localhost:8080/",
          "height": 35
        },
        "outputId": "187d7b87-852f-4624-9b91-a39051a74470"
      },
      "source": [
        "def predic(p):\n",
        "  return np.dot(p, w) + b\n",
        "\n",
        "\n",
        "p_data = np.array([10.0]).reshape(1,1)\n",
        "predic(p_data)"
      ],
      "execution_count": null,
      "outputs": [
        {
          "output_type": "execute_result",
          "data": {
            "text/plain": [
              "array([[1.63087793]])"
            ]
          },
          "metadata": {
            "tags": []
          },
          "execution_count": 24
        }
      ]
    }
  ]
}