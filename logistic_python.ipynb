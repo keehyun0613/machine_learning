{
  "nbformat": 4,
  "nbformat_minor": 0,
  "metadata": {
    "colab": {
      "name": "logistic_python.ipynb",
      "provenance": [],
      "authorship_tag": "ABX9TyPMNZeKcfLHeXIZVf7gWaN9",
      "include_colab_link": true
    },
    "kernelspec": {
      "name": "python3",
      "display_name": "Python 3"
    }
  },
  "cells": [
    {
      "cell_type": "markdown",
      "metadata": {
        "id": "view-in-github",
        "colab_type": "text"
      },
      "source": [
        "<a href=\"https://colab.research.google.com/github/keehyun0613/machine_learning/blob/master/logistic_python.ipynb\" target=\"_parent\"><img src=\"https://colab.research.google.com/assets/colab-badge.svg\" alt=\"Open In Colab\"/></a>"
      ]
    },
    {
      "cell_type": "code",
      "metadata": {
        "id": "BSFwYpsLhAeB",
        "colab_type": "code",
        "colab": {}
      },
      "source": [
        "import numpy as np"
      ],
      "execution_count": null,
      "outputs": []
    },
    {
      "cell_type": "code",
      "metadata": {
        "id": "AcbbpKOjhLoX",
        "colab_type": "code",
        "colab": {}
      },
      "source": [
        "traindata = np.loadtxt('./logistic_train_data.csv', delimiter=',', dtype=np.float32)\n",
        "train_row = traindata.shape[0]\n",
        "train_column = traindata.shape[1]\n",
        "x = traindata[:, 0:-1].reshape(train_row, train_column - 1)\n",
        "t = traindata[:, -1].reshape(train_row, 1)\n",
        "w = np.random.rand(train_column - 1, 1)\n",
        "b = np.random.rand(1)"
      ],
      "execution_count": null,
      "outputs": []
    },
    {
      "cell_type": "code",
      "metadata": {
        "id": "z2AMDHI2hbZY",
        "colab_type": "code",
        "colab": {
          "base_uri": "https://localhost:8080/",
          "height": 35
        },
        "outputId": "54216bcd-6676-4e10-b8c9-2f8cecb33e2b"
      },
      "source": [
        "def sigmoid (z_input):\n",
        "  return 1 / (1 + np.exp(-z_input))\n",
        "\n",
        "def cost_fn ():\n",
        "  z = np.dot(x, w) + b\n",
        "  a = sigmoid(z)\n",
        "  return -np.sum(t * np.log(a + 1e-9) + (1 - t) * np.log(1 - a + 1e-9))\n"
      ],
      "execution_count": null,
      "outputs": [
        {
          "output_type": "execute_result",
          "data": {
            "text/plain": [
              "95.49697722735164"
            ]
          },
          "metadata": {
            "tags": []
          },
          "execution_count": 5
        }
      ]
    },
    {
      "cell_type": "code",
      "metadata": {
        "id": "i49_yghJi9UQ",
        "colab_type": "code",
        "colab": {
          "base_uri": "https://localhost:8080/",
          "height": 71
        },
        "outputId": "7a0edfe0-4e23-4438-f9f1-3762ef140c32"
      },
      "source": [
        "def num_deriv(wb):\n",
        "  h = 0.00001\n",
        "  grad = np.zeros_like(wb)\n",
        "\n",
        "  it = np.nditer(wb, flags=['multi_index'], op_flags=['readwrite'])\n",
        "\n",
        "  while not it.finished:\n",
        "    idx = it.multi_index\n",
        "    tmp_val = wb[idx]\n",
        "    wb[idx] = tmp_val + h \n",
        "    fx1 = cost_fn()\n",
        "    wb[idx] = tmp_val - h\n",
        "    fx2 = cost_fn()\n",
        "    grad[idx] = (fx1 - fx2) / (2*h)\n",
        "    wb[idx] = tmp_val\n",
        "    it.iternext()\n",
        "\n",
        "  return grad\n",
        "\n",
        "print(cost_fn(), w, b)"
      ],
      "execution_count": null,
      "outputs": [
        {
          "output_type": "stream",
          "text": [
            "95.49697722735164 [[0.76292613]\n",
            " [0.34963014]\n",
            " [0.31893038]] [0.39289231]\n"
          ],
          "name": "stdout"
        }
      ]
    },
    {
      "cell_type": "code",
      "metadata": {
        "id": "HB1UNAXHlA31",
        "colab_type": "code",
        "colab": {
          "base_uri": "https://localhost:8080/",
          "height": 611
        },
        "outputId": "5138863b-2b9c-4723-9b69-19f51b2e4919"
      },
      "source": [
        "learn_rate = 0.001\n",
        "\n",
        "for step in range(10001):\n",
        "  w = w - learn_rate * num_deriv(w)\n",
        "  b = b - learn_rate * num_deriv(b)\n",
        "  if(step % 1000 == 0):\n",
        "    print(step, cost_fn(), w, b)"
      ],
      "execution_count": null,
      "outputs": [
        {
          "output_type": "stream",
          "text": [
            "0 13.456779946284932 [[  8.40571025]\n",
            " [-13.53564329]\n",
            " [  5.53105042]] [-0.41032983]\n",
            "1000 13.034299549301018 [[  8.74902052]\n",
            " [-14.04701401]\n",
            " [  5.73726716]] [-0.431785]\n",
            "2000 12.661348887151979 [[  9.07177414]\n",
            " [-14.52768415]\n",
            " [  5.93026081]] [-0.4516453]\n",
            "3000 12.328599342835252 [[  9.37681092]\n",
            " [-14.98189599]\n",
            " [  6.11186762]] [-0.47012374]\n",
            "4000 12.029038475847658 [[  9.66639697]\n",
            " [-15.41302497]\n",
            " [  6.28355387]] [-0.48739821]\n",
            "5000 11.757275262818565 [[  9.94237129]\n",
            " [-15.82380675]\n",
            " [  6.44651073]] [-0.50361701]\n",
            "6000 11.509084989514959 [[ 10.20624826]\n",
            " [-16.21649337]\n",
            " [  6.60172021]] [-0.51890415]\n",
            "7000 11.281101663053926 [[ 10.45929097]\n",
            " [-16.59296383]\n",
            " [  6.75000221]] [-0.53336381]\n",
            "8000 11.07060445289236 [[ 10.70256493]\n",
            " [-16.95480423]\n",
            " [  6.89204892]] [-0.54708408]\n",
            "9000 10.87536589901663 [[ 10.93697794]\n",
            " [-17.30336719]\n",
            " [  7.02845049]] [-0.56013994]\n",
            "10000 10.693541776907379 [[ 11.16331044]\n",
            " [-17.63981668]\n",
            " [  7.15971448]] [-0.57259559]\n"
          ],
          "name": "stdout"
        }
      ]
    },
    {
      "cell_type": "code",
      "metadata": {
        "id": "OQ3SBDl6lhLH",
        "colab_type": "code",
        "colab": {
          "base_uri": "https://localhost:8080/",
          "height": 35
        },
        "outputId": "5cd140a8-7afd-4dc5-fa19-3ec5bb7adcc3"
      },
      "source": [
        "def predic(p):\n",
        "  result = sigmoid(np.dot(p, w) + b)\n",
        "  if result >= 0.5:\n",
        "    return 1\n",
        "  else:\n",
        "    return 0\n",
        "\n",
        "p_data = np.array([0.1,0.2,0.3]).reshape(1,3)\n",
        "predic(p_data)"
      ],
      "execution_count": null,
      "outputs": [
        {
          "output_type": "execute_result",
          "data": {
            "text/plain": [
              "0"
            ]
          },
          "metadata": {
            "tags": []
          },
          "execution_count": 10
        }
      ]
    }
  ]
}