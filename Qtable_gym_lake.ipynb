{
  "nbformat": 4,
  "nbformat_minor": 0,
  "metadata": {
    "colab": {
      "name": "Qtable_gym_lake.ipynb",
      "provenance": [],
      "authorship_tag": "ABX9TyO8EE9q7meqv6duLxxpRvTC",
      "include_colab_link": true
    },
    "kernelspec": {
      "name": "python3",
      "display_name": "Python 3"
    }
  },
  "cells": [
    {
      "cell_type": "markdown",
      "metadata": {
        "id": "view-in-github",
        "colab_type": "text"
      },
      "source": [
        "<a href=\"https://colab.research.google.com/github/keehyun0613/machine_learning/blob/master/Qtable_gym_lake.ipynb\" target=\"_parent\"><img src=\"https://colab.research.google.com/assets/colab-badge.svg\" alt=\"Open In Colab\"/></a>"
      ]
    },
    {
      "cell_type": "code",
      "metadata": {
        "id": "l-nm-IDUdXHS",
        "colab_type": "code",
        "colab": {}
      },
      "source": [
        "import gym\n",
        "import numpy as np\n",
        "import matplotlib.pyplot as plt\n",
        "from gym.envs.registration import register"
      ],
      "execution_count": null,
      "outputs": []
    },
    {
      "cell_type": "code",
      "metadata": {
        "id": "MkVwHaQc1Ayi",
        "colab_type": "code",
        "colab": {}
      },
      "source": [
        "def rargmax(vector):\n",
        "    m = np.amax(vector)\n",
        "    indices = np.nonzero(vector == m)[0]\n",
        "    return np.random.choice(indices)\n"
      ],
      "execution_count": null,
      "outputs": []
    },
    {
      "cell_type": "code",
      "metadata": {
        "id": "34lj4jFddn54",
        "colab_type": "code",
        "colab": {
          "base_uri": "https://localhost:8080/",
          "height": 359
        },
        "outputId": "ebd9a466-1c55-4861-d408-713261869bce"
      },
      "source": [
        "env = gym.make('FrozenLake-v0')\n",
        "Q = np.zeros([env.observation_space.n, env.action_space.n])\n",
        "learning_rate = .85\n",
        "dis = 0.95\n",
        "\n",
        "rList = []\n",
        "for episodes in range(2000):\n",
        "\n",
        "    state = env.reset()\n",
        "    rAll = 0\n",
        "    done = False\n",
        "    e = 1. / ((episodes // 100) + 1)\n",
        "\n",
        "    while not done:\n",
        "        action = np.argmax(Q[state, :] + np.random.randn(1, env.action_space.n) / (episodes + 1))\n",
        "\n",
        "        new_state, reward, done, _ = env.step(action)\n",
        "        Q[state, action] = (1-learning_rate) * Q[state, action] + learning_rate * (reward + dis * np.max(Q[new_state, :]))\n",
        "\n",
        "        rAll += reward\n",
        "        state = new_state\n",
        "    \n",
        "    rList.append(rAll)\n",
        "\n",
        "print(\"Success rate: \" + str(sum(rList) / 2000))\n",
        "print(\"Final Q-Table Values\")\n",
        "print(\"LEFT DOWN RIGHT UP\")\n",
        "print(Q)"
      ],
      "execution_count": null,
      "outputs": [
        {
          "output_type": "stream",
          "text": [
            "Success rate: 0.453\n",
            "Final Q-Table Values\n",
            "LEFT DOWN RIGHT UP\n",
            "[[6.31494977e-02 7.64614852e-03 7.48997483e-03 5.22435800e-03]\n",
            " [8.29973659e-04 2.69759633e-06 2.07413066e-05 9.65698967e-02]\n",
            " [2.22496275e-01 6.66454479e-04 8.09734685e-04 2.35941720e-03]\n",
            " [2.48007922e-06 4.57122691e-07 6.73220460e-04 2.51476881e-03]\n",
            " [4.31721619e-01 9.95485124e-04 5.20577308e-04 1.19381702e-04]\n",
            " [0.00000000e+00 0.00000000e+00 0.00000000e+00 0.00000000e+00]\n",
            " [1.04354330e-01 5.44394928e-10 6.87240328e-04 5.91912855e-05]\n",
            " [0.00000000e+00 0.00000000e+00 0.00000000e+00 0.00000000e+00]\n",
            " [5.30004996e-04 4.10943951e-04 1.37558407e-03 3.63427640e-01]\n",
            " [8.18761419e-04 7.91100241e-02 0.00000000e+00 1.76848856e-04]\n",
            " [1.96008874e-01 3.13019228e-05 0.00000000e+00 1.29977162e-03]\n",
            " [0.00000000e+00 0.00000000e+00 0.00000000e+00 0.00000000e+00]\n",
            " [0.00000000e+00 0.00000000e+00 0.00000000e+00 0.00000000e+00]\n",
            " [2.88019488e-05 2.10522336e-03 3.70061674e-01 3.59190674e-04]\n",
            " [0.00000000e+00 0.00000000e+00 0.00000000e+00 8.84153804e-01]\n",
            " [0.00000000e+00 0.00000000e+00 0.00000000e+00 0.00000000e+00]]\n"
          ],
          "name": "stdout"
        }
      ]
    },
    {
      "cell_type": "code",
      "metadata": {
        "id": "_4YLnceuthZi",
        "colab_type": "code",
        "colab": {}
      },
      "source": [
        ""
      ],
      "execution_count": null,
      "outputs": []
    }
  ]
}